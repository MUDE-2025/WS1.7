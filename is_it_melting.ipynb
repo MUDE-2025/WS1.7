{
 "cells": [
  {
   "cell_type": "markdown",
   "metadata": {
    "tags": []
   },
   "source": [
    "# Glacier Melting Model"
   ]
  },
  {
   "cell_type": "markdown",
   "metadata": {},
   "source": [
    "You have 12 monthly measurements of the height of a point on a glacier. The measurements are obtained from a satellite laser altimeter. The observations are given in the code below.\n",
    "\n",
    "We will fit a model assuming a linear trend (constant velocity) to account for the melting, plus an annual signal due to the seasonal impact on ice. Formulating a generalized form of this model is part of your task below. Note, however, that the periodic signal can be implemented in many ways. For this assignment you can assume that the periodic term is implemented as follows:\n",
    "\n",
    "$$\n",
    "\\cos(2 \\pi t / 12 + \\phi)\n",
    "$$\n",
    "\n",
    "where $\\phi$ is the phase angle, which we will assume is 0 for this workshop and will leave out of the model formulation in order to keep our model linear (i.e., leave it out of the A-matrix).\n",
    "\n",
    "The precision (1 $\\sigma$) of the first six observations is 0.7 meter, the last six observations have a precision of 2 meter due to a change in the settings of the instrument. All observations are mutually independent."
   ]
  },
  {
   "cell_type": "code",
   "execution_count": null,
   "metadata": {},
   "outputs": [],
   "source": [
    "import numpy as np\n",
    "from scipy.stats import norm\n",
    "import matplotlib.pyplot as plt\n",
    "\n",
    "# this will print all float arrays with 3 decimal places\n",
    "float_formatter = \"{:.3f}\".format\n",
    "np.set_printoptions(formatter={'float_kind':float_formatter})"
   ]
  },
  {
   "cell_type": "markdown",
   "metadata": {},
   "source": [
    "## Part 1: Observation model\n",
    "\n",
    "First we will construct the observation model, based on the following information that is provided: times of observations, observed heights and number of observations. "
   ]
  },
  {
   "cell_type": "markdown",
   "metadata": {},
   "source": [
    "<div style=\"background-color:#AABAB2; color: black; width:95%; vertical-align: middle; padding:15px; margin: 10px; border-radius: 10px\">\n",
    "<p>\n",
    "\n",
    "**Task 1.1:**\n",
    "\n",
    "Complete the definition of the observation time array `times` and define the other variables such that the print statements correctly describe the design matrix `A`.\n",
    "\n",
    "Use `times=0` as the first point.\n",
    "\n",
    "</p>\n",
    "</div>"
   ]
  },
  {
   "cell_type": "code",
   "execution_count": null,
   "metadata": {
    "tags": [
     "assignment"
    ]
   },
   "outputs": [],
   "source": [
    "y = [59.82, 57.20, 59.09, 59.49, 59.68, 59.34, 60.95, 59.34, 55.38, 54.33, 48.71, 48.47]\n",
    "\n",
    "# Define observation times (0..11) and dimensions of the problem\n",
    "times = ...  # YOUR CODE HERE\n",
    "number_of_observations = ...  # YOUR CODE HERE\n",
    "number_of_parameters = ...  # YOUR CODE HERE\n",
    "\n",
    "print('Dimensions of the design matrix A:')\n",
    "print('  ### YOUR CODE HERE ### rows')\n",
    "print('  ### YOUR CODE HERE ### columns')"
   ]
  },
  {
   "cell_type": "markdown",
   "metadata": {},
   "source": [
    "Next, we need to assemble the design matrix in Python. Rather than enter each value manually, we have a few tricks to make this easier. Here is an example Python cell that illustrates how one-dimensional arrays (i.e., columns or rows) can be assembled into a matrix in two ways:\n",
    "1. As diagonal elements, and \n",
    "2. As parallel elements (columns, in this case)\n",
    "\n",
    "Note also the use of `np.ones()` to quickly make a row or column of any size with the same values in each element."
   ]
  },
  {
   "cell_type": "code",
   "execution_count": null,
   "metadata": {},
   "outputs": [],
   "source": [
    "column_1 = np.array([33333, 0, 0])\n",
    "column_2 = 99999*np.ones(3)\n",
    "\n",
    "example_1 = np.diagflat([column_1, column_2])\n",
    "example_2 = np.column_stack((column_1, column_2))\n",
    "\n",
    "print(example_1, '\\n\\n', example_2)"
   ]
  },
  {
   "cell_type": "markdown",
   "metadata": {},
   "source": [
    "<div style=\"background-color:#facb8e; color: black; vertical-align: middle; padding:15px; margin: 10px; border-radius: 10px; width: 95%\"> <p>See documentation on <a href=\"https://numpy.org/doc/stable/reference/generated/numpy.diagflat.html#numpy.diagflat\" target=\"_blank\">np.diagflat</a> and <a href=\"https://numpy.org/doc/stable/reference/generated/numpy.column_stack.html\" target=\"_blank\">np.column_stack</a> if you would like to understand more about these Numpy methods.</p></div>"
   ]
  },
  {
   "cell_type": "markdown",
   "metadata": {},
   "source": [
    "<div style=\"background-color:#AABAB2; color: black; width:95%; vertical-align: middle; padding:15px; margin: 10px; border-radius: 10px\">\n",
    "<p>\n",
    "\n",
    "**Task 1.2:**\n",
    "\n",
    "Complete the $\\mathrm{A}$-matrix (design matrix) and covariance matrix $\\Sigma_Y$ (stochastic model) as a linear trend with an annual signal. The `assert` statement is used to confirm that the dimensions of your design matrix are correct (an error will occur if not).\n",
    "\n",
    "</p>\n",
    "</div>"
   ]
  },
  {
   "cell_type": "code",
   "execution_count": null,
   "metadata": {
    "tags": [
     "assignment"
    ]
   },
   "outputs": [],
   "source": [
    "A = ...  # YOUR CODE HERE\n",
    "Sigma_Y = ...  # YOUR CODE HERE\n",
    "\n",
    "assert A.shape == (number_of_observations, number_of_parameters)"
   ]
  },
  {
   "cell_type": "markdown",
   "metadata": {},
   "source": [
    "## 2. Least-squares and Best linear unbiased (BLU) estimation\n",
    "\n",
    "The BLU estimator is a *linear* and *unbiased* estimator, which provides the *best* precision, where:\n",
    "\n",
    "- linear estimation: $\\hat{X}$ is a linear function of the observables $Y$,\n",
    "- unbiased estimation: $\\mathbb{E}(\\hat{X})=\\mathrm{x}$,\n",
    "- best precision: sum of variances, $\\sum_i \\sigma_{\\hat{x}_i}^2$, is minimized.\n",
    "\n",
    "The solution $\\hat{X}$ is obtained as:\n",
    "\n",
    "$$\n",
    "\\hat{X} = \\left(\\mathrm{A}^T\\Sigma_Y^{-1} \\mathrm{A} \\right)^{-1} \\mathrm{A}^T\\Sigma_Y^{-1}Y\n",
    "$$\n",
    "\n",
    "Note that here we are looking at the *estimator*, which is random, since it is expressed as a function of the observable vector $Y$. Once we have a realization $y$ of $Y$, the estimate $\\hat{\\mathrm{x}}$ can be computed.\n",
    "\n",
    "It can be shown that the covariance matrix of $\\hat{X}$ is given by:\n",
    "\n",
    "$$\n",
    "\\Sigma_{\\hat{X}} = \\left(\\mathrm{A}^T\\Sigma_Y^{-1} \\mathrm{A} \\right)^{-1}\n",
    "$$"
   ]
  },
  {
   "cell_type": "markdown",
   "metadata": {},
   "source": [
    "<div style=\"background-color:#AABAB2; color: black; width:95%; vertical-align: middle; padding:15px; margin: 10px; border-radius: 10px\">\n",
    "<p>\n",
    "\n",
    "**Task 2.1:**\n",
    "\n",
    "Apply least-squares, and best linear unbiased estimation to estimate $\\mathrm{x}$. The code cell below outlines how you should compute the inverse of $\\Sigma_Y$. Compute the least squares estimates then the best linear unbiased estimate.\n",
    "\n",
    "</p>\n",
    "</div>"
   ]
  },
  {
   "cell_type": "markdown",
   "metadata": {},
   "source": [
    "<div style=\"background-color:#facb8e; color: black; vertical-align: middle; padding:15px; margin: 10px; border-radius: 10px; width: 95%\"> <p>Remember that the <code>@</code> operator (matmul operator) can be used to easily carry out matrix multiplication for Numpy arrays. The transpose method of an array, <code>my_array.T</code>, is also useful.</p></div>"
   ]
  },
  {
   "cell_type": "code",
   "execution_count": null,
   "metadata": {
    "tags": [
     "assignment"
    ]
   },
   "outputs": [],
   "source": [
    "inv_Sigma_Y = np.linalg.inv(Sigma_Y)\n",
    "\n",
    "xhat_LS = ...  # YOUR CODE HERE\n",
    "xhat_BLU = ...  # YOUR CODE HERE\n",
    "\n",
    "print('LS estimates in [m], [m/month], [m], resp.:\\t', xhat_LS)\n",
    "print('BLU estimates in [m], [m/month], [m], resp.:\\t', xhat_BLU)"
   ]
  },
  {
   "cell_type": "markdown",
   "metadata": {},
   "source": [
    "<div style=\"background-color:#AABAB2; color: black; width:95%; vertical-align: middle; padding:15px; margin: 10px; border-radius: 10px\">\n",
    "<p>\n",
    "\n",
    "**Task 2.2:**\n",
    "\n",
    "The covariance matrix of least-squares can be obtained as well by applying the covariance propagation law (as explained in Section 6.3 for weighted least-squares) if you know the covariance matrix of the observations (which we do in this case).\n",
    "\n",
    "Calculate the covariance matrix and vector with standard deviations of both the least-squares and BLU estimates. What is the precision of the estimated parameters? The diagonal of a matrix can be extracted with <a href=\"https://numpy.org/doc/stable/reference/generated/numpy.diagonal.html#numpy.diagonal\" target=\"_blank\">np.diagonal</a>.\n",
    "\n",
    "What is the difference between precision of the estimated parameters with least-squares and BLU? \n",
    "</p>\n",
    "</div>"
   ]
  },
  {
   "cell_type": "markdown",
   "metadata": {},
   "source": [
    "<div style=\"background-color:#facb8e; color: black; vertical-align: middle; padding:15px; margin: 10px; border-radius: 10px; width: 95%\"> <p><em>Hint: define an intermediate variable  <code>LT</code> first to collect some of the repetitive matrix terms.</em></p></div>"
   ]
  },
  {
   "cell_type": "code",
   "execution_count": null,
   "metadata": {
    "tags": [
     "assignment"
    ]
   },
   "outputs": [],
   "source": [
    "LT = ...  # YOUR CODE HERE\n",
    "Sigma_xhat_LS = ...  # YOUR CODE HERE\n",
    "std_xhat_LS = ...  # YOUR CODE HERE\n",
    "\n",
    "Sigma_xhat_BLU = ...  # YOUR CODE HERE\n",
    "std_xhat_BLU = ...  # YOUR CODE HERE\n",
    "\n",
    "print(f'Precision of LS  estimates in [m], [m/month], [m], resp.:', std_xhat_LS)\n",
    "print(f'Precision of BLU estimates in [m], [m/month], [m], resp.:', std_xhat_BLU)"
   ]
  },
  {
   "cell_type": "markdown",
   "metadata": {},
   "source": [
    "<div style=\"background-color:#AABAB2; color: black; width:95%; vertical-align: middle; padding:15px; margin: 10px; border-radius: 10px\">\n",
    "<p>\n",
    "\n",
    "**Task 2.3:**\n",
    "\n",
    "Discuss the estimated melting rate with respect to its precision.\n",
    "\n",
    "</p>\n",
    "</div>"
   ]
  },
  {
   "cell_type": "markdown",
   "metadata": {},
   "source": [
    "## 3. Residuals and plot with observations and fitted models.\n",
    "\n",
    "Run the code below (no changes needed) to calculate the weighted squared norm of residuals with both estimation methods, and create plots of the observations and fitted models. "
   ]
  },
  {
   "cell_type": "code",
   "execution_count": null,
   "metadata": {},
   "outputs": [],
   "source": [
    "eTe_LS = (y - A @ xhat_LS).T @ (y - A @ xhat_LS)\n",
    "eTe_BLU = (y - A @ xhat_BLU).T @ inv_Sigma_Y @ (y - A @ xhat_BLU)\n",
    "\n",
    "print(f'Weighted squared norm of residuals with LS  estimation: {eTe_LS:.3f}')\n",
    "print(f'Weighted squared norm of residuals with BLU estimation: {eTe_BLU:.3f}')\n",
    "\n",
    "plt.figure()\n",
    "plt.rc('font', size=14)\n",
    "plt.plot(times, y, 'kx', label='observations')\n",
    "plt.plot(times, A @ xhat_LS, color='r', label='LS')\n",
    "plt.plot(times, A @ xhat_BLU, color='b', label='BLU')\n",
    "plt.xlim(-0.2, (number_of_observations - 1) + 0.2)\n",
    "plt.xlabel('time [months]')\n",
    "plt.ylabel('height [meters]')\n",
    "plt.legend(loc='best');"
   ]
  },
  {
   "cell_type": "markdown",
   "metadata": {},
   "source": [
    "<div style=\"background-color:#AABAB2; color: black; width:95%; vertical-align: middle; padding:15px; margin: 10px; border-radius: 10px\">\n",
    "<p>\n",
    "<b>Task 3.1:</b>   \n",
    "<ul>\n",
    "    <li>Explain the difference between the fitted models.</li>\n",
    "    <li>Can we see from this figure which model fits better (without information about the stochastic model)?</li>\n",
    "</ul>\n",
    "</p>\n",
    "</div>"
   ]
  },
  {
   "cell_type": "markdown",
   "metadata": {},
   "source": [
    "## 4. Confidence bounds\n",
    "In the code below you need to calculate the confidence bounds, e.g., `CI_yhat_BLU` is a vector with the values $k\\cdot\\sigma_{\\hat{y}_i}$ for BLUE. This will then be used to plot the confidence intervals:\n",
    "$$\n",
    "\\hat{y}_i \\pm k\\cdot\\sigma_{\\hat{y}_i}\n",
    "$$\n",
    "\n",
    "Recall that $k$ can be calculated from $P(Z < k) = 1-\\frac{1}{2}\\alpha$. "
   ]
  },
  {
   "cell_type": "markdown",
   "metadata": {},
   "source": [
    "<div style=\"background-color:#AABAB2; color: black; width:95%; vertical-align: middle; padding:15px; margin: 10px; border-radius: 10px\">\n",
    "<p>\n",
    "\n",
    "**Task 4.1:**\n",
    "\n",
    "Complete the code below to calculate the 98% confidence intervals of both the observations $y$ <b>and</b> the adjusted observations $\\hat{y}$ (model values for both LS and BLU).\n",
    "    \n",
    "Use <code>norm.ppf</code> to compute $k_{98}$. Also try different percentages.\n",
    "</p>\n",
    "</div>"
   ]
  },
  {
   "cell_type": "code",
   "execution_count": null,
   "metadata": {
    "tags": [
     "assignment"
    ]
   },
   "outputs": [],
   "source": [
    "yhat_LS = ...  # YOUR CODE HERE\n",
    "Sigma_Yhat_LS = ...  # YOUR CODE HERE\n",
    "yhat_BLU = ...  # YOUR CODE HERE\n",
    "Sigma_Yhat_BLU = ...  # YOUR CODE HERE\n",
    "\n",
    "alpha = ...  # YOUR CODE HERE\n",
    "k98 = ...  # YOUR CODE HERE\n",
    "\n",
    "CI_y = ...  # YOUR CODE HERE\n",
    "CI_yhat_LS = ...  # YOUR CODE HERE\n",
    "CI_yhat_BLU = ...  # YOUR CODE HERE\n"
   ]
  },
  {
   "cell_type": "markdown",
   "metadata": {},
   "source": [
    "You can directly run the code below to create the plots."
   ]
  },
  {
   "cell_type": "code",
   "execution_count": null,
   "metadata": {
    "scrolled": true
   },
   "outputs": [],
   "source": [
    "plt.figure(figsize = (10,4))\n",
    "plt.rc('font', size=14)\n",
    "plt.subplot(121)\n",
    "plt.plot(times, y, 'kx', label='observations')\n",
    "plt.plot(times, yhat_LS, color='r', label='LS')\n",
    "plt.plot(times, yhat_LS + CI_yhat_LS, 'r:', label=f'{100*(1-alpha):.1f}% conf.')\n",
    "plt.plot(times, yhat_LS - CI_yhat_LS, 'r:')\n",
    "plt.xlabel('time [months]')\n",
    "plt.ylabel('height [meters]')\n",
    "plt.legend(loc='best')\n",
    "plt.subplot(122)\n",
    "plt.plot(times, y, 'kx', label='observations')\n",
    "plt.errorbar(times, y, yerr = CI_y, fmt='', capsize=5, linestyle='', color='blue', alpha=0.6)\n",
    "plt.plot(times, yhat_BLU, color='b', label='BLU')\n",
    "plt.plot(times, yhat_BLU + CI_yhat_BLU, 'b:', label=f'{100*(1-alpha):.1f}% conf.')\n",
    "plt.plot(times, yhat_BLU - CI_yhat_BLU, 'b:')\n",
    "plt.xlim(-0.2, (number_of_observations - 1) + 0.2)\n",
    "plt.xlabel('time [months]')\n",
    "plt.legend(loc='best');"
   ]
  },
  {
   "cell_type": "markdown",
   "metadata": {},
   "source": [
    "<div style=\"background-color:#AABAB2; color: black; width:95%; vertical-align: middle; padding:15px; margin: 10px; border-radius: 10px\">\n",
    "<p>\n",
    "<b>Task 4.2:</b> \n",
    "\n",
    "Discuss the shape of the confidence bounds. Do you think the model (linear trend + annual signal) is a good choice?\n",
    "</p>\n",
    "</div>"
   ]
  },
  {
   "cell_type": "markdown",
   "metadata": {},
   "source": [
    "<div style=\"background-color:#AABAB2; color: black; width:95%; vertical-align: middle; padding:15px; margin: 10px; border-radius: 10px\">\n",
    "<p>\n",
    "<b>Task 4.3:</b> \n",
    "\n",
    "What is the BLU-estimated melting rate and the amplitude of the annual signal and their 98% confidence interval? Hint: extract the estimated values and standard deviations from <code>xhat_BLU</code> and <code>std_xhat_BLU</code>, respectively.\n",
    "</p>\n",
    "</div>"
   ]
  },
  {
   "cell_type": "code",
   "execution_count": null,
   "metadata": {
    "tags": [
     "assignment"
    ]
   },
   "outputs": [],
   "source": [
    "rate = ...  # YOUR CODE HERE\n",
    "CI_rate = ...  # YOUR CODE HERE\n",
    "\n",
    "amplitude = ...  # YOUR CODE HERE\n",
    "CI_amplitude = ...  # YOUR CODE HERE\n",
    "\n",
    "print(f'The melting rate is {rate:.3f} ± {CI_rate:.3f} m/month (98% confidence level)')\n",
    "print(f'The amplitude of the annual signal is {amplitude:.3f} ± {CI_amplitude:.3f} m (98% confidence level)')"
   ]
  },
  {
   "cell_type": "markdown",
   "metadata": {},
   "source": [
    "<div style=\"background-color:#AABAB2; color: black; width:95%; vertical-align: middle; padding:15px; margin: 10px; border-radius: 10px\">\n",
    "<p>\n",
    "<b>Task 4.4:</b> \n",
    "\n",
    "Can we conclude the glacier is melting due to climate change?\n",
    "</p>\n",
    "</div>"
   ]
  },
  {
   "cell_type": "markdown",
   "metadata": {},
   "source": [
    "> By Sandra Verhagen, Delft University of Technology. CC BY 4.0, more info on the Credits page of Workbook."
   ]
  }
 ],
 "metadata": {
  "kernelspec": {
   "display_name": "mude-base",
   "language": "python",
   "name": "python3"
  },
  "language_info": {
   "codemirror_mode": {
    "name": "ipython",
    "version": 3
   },
   "file_extension": ".py",
   "mimetype": "text/x-python",
   "name": "python",
   "nbconvert_exporter": "python",
   "pygments_lexer": "ipython3",
   "version": "3.12.11"
  },
  "latex_envs": {
   "LaTeX_envs_menu_present": true,
   "autoclose": false,
   "autocomplete": true,
   "bibliofile": "biblio.bib",
   "cite_by": "apalike",
   "current_citInitial": 1,
   "eqLabelWithNumbers": true,
   "eqNumInitial": 1,
   "hotkeys": {
    "equation": "Ctrl-E",
    "itemize": "Ctrl-I"
   },
   "labels_anchors": false,
   "latex_user_defs": false,
   "report_style_numbering": false,
   "user_envs_cfg": false
  },
  "widgets": {
   "application/vnd.jupyter.widget-state+json": {
    "state": {},
    "version_major": 2,
    "version_minor": 0
   }
  }
 },
 "nbformat": 4,
 "nbformat_minor": 4
}
